{
 "cells": [
  {
   "cell_type": "markdown",
   "id": "0f8941c1",
   "metadata": {},
   "source": [
    "# Install Libraries"
   ]
  },
  {
   "cell_type": "markdown",
   "id": "3427b13b",
   "metadata": {},
   "source": [
    "List of all the language codes\n",
    "\n",
    "https://en.wikipedia.org/wiki/List_of_ISO_639-1_codes"
   ]
  },
  {
   "cell_type": "markdown",
   "id": "0a24a41b",
   "metadata": {},
   "source": [
    "!pip install textblob"
   ]
  },
  {
   "cell_type": "code",
   "execution_count": 1,
   "id": "ee69bc5b",
   "metadata": {},
   "outputs": [],
   "source": [
    "from textblob import TextBlob"
   ]
  },
  {
   "cell_type": "markdown",
   "id": "00d44482",
   "metadata": {},
   "source": [
    "# Do Prediction"
   ]
  },
  {
   "cell_type": "code",
   "execution_count": 2,
   "id": "f813c200",
   "metadata": {},
   "outputs": [
    {
     "name": "stdout",
     "output_type": "stream",
     "text": [
      "en\n"
     ]
    }
   ],
   "source": [
    "word1=TextBlob(\"My name is Vatsal Nanda\")\n",
    "var1=word1.detect_language()\n",
    "print(var1)"
   ]
  },
  {
   "cell_type": "code",
   "execution_count": 3,
   "id": "e35cc6a1",
   "metadata": {},
   "outputs": [
    {
     "name": "stdout",
     "output_type": "stream",
     "text": [
      "fr\n"
     ]
    }
   ],
   "source": [
    "word2=TextBlob(\"Je m'appelle Vatsal Nanda.\")\n",
    "var2=word2.detect_language()\n",
    "print(var2)"
   ]
  },
  {
   "cell_type": "code",
   "execution_count": 4,
   "id": "33ebb6d8",
   "metadata": {},
   "outputs": [
    {
     "name": "stdout",
     "output_type": "stream",
     "text": [
      "de\n"
     ]
    }
   ],
   "source": [
    "word3=TextBlob(\"Mein Name ist Vatsal Nanda.\")\n",
    "var3=word3.detect_language()\n",
    "print(var3)"
   ]
  },
  {
   "cell_type": "code",
   "execution_count": 5,
   "id": "04c91a91",
   "metadata": {},
   "outputs": [
    {
     "name": "stdout",
     "output_type": "stream",
     "text": [
      "el\n"
     ]
    }
   ],
   "source": [
    "word4=TextBlob(\"Το όνομά μου είναι Vatsal Nanda.\")\n",
    "var4=word4.detect_language()\n",
    "print(var4)"
   ]
  },
  {
   "cell_type": "code",
   "execution_count": 6,
   "id": "0adcea18",
   "metadata": {},
   "outputs": [
    {
     "name": "stdout",
     "output_type": "stream",
     "text": [
      "haw\n"
     ]
    }
   ],
   "source": [
    "word5=TextBlob(\"ʻO Vatsal Nanda koʻu inoa.\")\n",
    "var5=word5.detect_language()\n",
    "print(var5)"
   ]
  },
  {
   "cell_type": "code",
   "execution_count": 7,
   "id": "5e088452",
   "metadata": {},
   "outputs": [
    {
     "name": "stdout",
     "output_type": "stream",
     "text": [
      "hi\n"
     ]
    }
   ],
   "source": [
    "word6=TextBlob(\"मेरा नाम वत्सल नंदा है।\")\n",
    "var6=word6.detect_language()\n",
    "print(var6)"
   ]
  },
  {
   "cell_type": "code",
   "execution_count": 8,
   "id": "911859b4",
   "metadata": {},
   "outputs": [
    {
     "name": "stdout",
     "output_type": "stream",
     "text": [
      "gd\n"
     ]
    }
   ],
   "source": [
    "word7=TextBlob(\"Vatsal Nanda is ainm dom.\")\n",
    "var7=word7.detect_language()\n",
    "print(var7)"
   ]
  },
  {
   "cell_type": "code",
   "execution_count": 9,
   "id": "2b76a796",
   "metadata": {},
   "outputs": [
    {
     "name": "stdout",
     "output_type": "stream",
     "text": [
      "ja\n"
     ]
    }
   ],
   "source": [
    "word8=TextBlob(\"私の名前はVatsalNandaです。\")\n",
    "var8=word8.detect_language()\n",
    "print(var8)"
   ]
  },
  {
   "cell_type": "code",
   "execution_count": 10,
   "id": "623c156c",
   "metadata": {},
   "outputs": [
    {
     "name": "stdout",
     "output_type": "stream",
     "text": [
      "pt\n"
     ]
    }
   ],
   "source": [
    "word9=TextBlob(\"Meu nome é Vatsal Nanda.\")\n",
    "var9=word9.detect_language()\n",
    "print(var9)"
   ]
  },
  {
   "cell_type": "code",
   "execution_count": 11,
   "id": "67c83306",
   "metadata": {},
   "outputs": [
    {
     "name": "stdout",
     "output_type": "stream",
     "text": [
      "es\n"
     ]
    }
   ],
   "source": [
    "word10=TextBlob(\"Mi nombre es Vatsal Nanda.\")\n",
    "var10=word10.detect_language()\n",
    "print(var10)"
   ]
  },
  {
   "cell_type": "code",
   "execution_count": null,
   "id": "58d49eee",
   "metadata": {},
   "outputs": [],
   "source": []
  }
 ],
 "metadata": {
  "kernelspec": {
   "display_name": "Python 3",
   "language": "python",
   "name": "python3"
  },
  "language_info": {
   "codemirror_mode": {
    "name": "ipython",
    "version": 3
   },
   "file_extension": ".py",
   "mimetype": "text/x-python",
   "name": "python",
   "nbconvert_exporter": "python",
   "pygments_lexer": "ipython3",
   "version": "3.8.8"
  }
 },
 "nbformat": 4,
 "nbformat_minor": 5
}
